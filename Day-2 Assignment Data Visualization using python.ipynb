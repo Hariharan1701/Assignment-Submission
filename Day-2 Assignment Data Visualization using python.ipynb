{
 "cells": [
  {
   "cell_type": "markdown",
   "metadata": {},
   "source": [
    "# Assignment - Day 2\n",
    "## Name - R.Hariharan\n",
    "## Email id - rhariharan1701@gmail.com"
   ]
  },
  {
   "cell_type": "code",
   "execution_count": 4,
   "metadata": {},
   "outputs": [],
   "source": [
    "import numpy as np\n",
    "import pandas as pd\n",
    "import seaborn as sns \n",
    "import matplotlib as mpl\n",
    "import matplotlib.pyplot as plt\n",
    "from numpy.random import randn,randint,uniform,sample"
   ]
  },
  {
   "cell_type": "markdown",
   "metadata": {},
   "source": [
    "## Create a dataframe with 10 rows on random numbers and 4 columns,(columns labelled as a,b,c,d) and plot a bar chart."
   ]
  },
  {
   "cell_type": "code",
   "execution_count": 5,
   "metadata": {},
   "outputs": [],
   "source": [
    "dataframe = pd.DataFrame(randn(10,4), columns =['a','b','c','d'])"
   ]
  },
  {
   "cell_type": "code",
   "execution_count": 6,
   "metadata": {},
   "outputs": [
    {
     "data": {
      "text/html": [
       "<div>\n",
       "<style scoped>\n",
       "    .dataframe tbody tr th:only-of-type {\n",
       "        vertical-align: middle;\n",
       "    }\n",
       "\n",
       "    .dataframe tbody tr th {\n",
       "        vertical-align: top;\n",
       "    }\n",
       "\n",
       "    .dataframe thead th {\n",
       "        text-align: right;\n",
       "    }\n",
       "</style>\n",
       "<table border=\"1\" class=\"dataframe\">\n",
       "  <thead>\n",
       "    <tr style=\"text-align: right;\">\n",
       "      <th></th>\n",
       "      <th>a</th>\n",
       "      <th>b</th>\n",
       "      <th>c</th>\n",
       "      <th>d</th>\n",
       "    </tr>\n",
       "  </thead>\n",
       "  <tbody>\n",
       "    <tr>\n",
       "      <th>0</th>\n",
       "      <td>-0.023573</td>\n",
       "      <td>-1.106101</td>\n",
       "      <td>-0.292688</td>\n",
       "      <td>0.881456</td>\n",
       "    </tr>\n",
       "    <tr>\n",
       "      <th>1</th>\n",
       "      <td>-0.567707</td>\n",
       "      <td>-1.465493</td>\n",
       "      <td>-0.041583</td>\n",
       "      <td>-0.904982</td>\n",
       "    </tr>\n",
       "    <tr>\n",
       "      <th>2</th>\n",
       "      <td>0.504931</td>\n",
       "      <td>-0.869191</td>\n",
       "      <td>-0.325891</td>\n",
       "      <td>-1.073326</td>\n",
       "    </tr>\n",
       "    <tr>\n",
       "      <th>3</th>\n",
       "      <td>1.617252</td>\n",
       "      <td>-0.187144</td>\n",
       "      <td>0.393138</td>\n",
       "      <td>-0.301502</td>\n",
       "    </tr>\n",
       "    <tr>\n",
       "      <th>4</th>\n",
       "      <td>-0.747856</td>\n",
       "      <td>1.623586</td>\n",
       "      <td>-0.734113</td>\n",
       "      <td>-0.626884</td>\n",
       "    </tr>\n",
       "    <tr>\n",
       "      <th>5</th>\n",
       "      <td>0.814009</td>\n",
       "      <td>0.652931</td>\n",
       "      <td>1.129928</td>\n",
       "      <td>-0.701501</td>\n",
       "    </tr>\n",
       "    <tr>\n",
       "      <th>6</th>\n",
       "      <td>-0.108321</td>\n",
       "      <td>-0.274590</td>\n",
       "      <td>-1.767240</td>\n",
       "      <td>-0.282378</td>\n",
       "    </tr>\n",
       "    <tr>\n",
       "      <th>7</th>\n",
       "      <td>1.856998</td>\n",
       "      <td>-0.854022</td>\n",
       "      <td>-0.102283</td>\n",
       "      <td>-0.830124</td>\n",
       "    </tr>\n",
       "    <tr>\n",
       "      <th>8</th>\n",
       "      <td>-1.070414</td>\n",
       "      <td>-0.149799</td>\n",
       "      <td>-0.396826</td>\n",
       "      <td>1.014250</td>\n",
       "    </tr>\n",
       "    <tr>\n",
       "      <th>9</th>\n",
       "      <td>0.310075</td>\n",
       "      <td>1.591718</td>\n",
       "      <td>0.175050</td>\n",
       "      <td>-0.437157</td>\n",
       "    </tr>\n",
       "  </tbody>\n",
       "</table>\n",
       "</div>"
      ],
      "text/plain": [
       "          a         b         c         d\n",
       "0 -0.023573 -1.106101 -0.292688  0.881456\n",
       "1 -0.567707 -1.465493 -0.041583 -0.904982\n",
       "2  0.504931 -0.869191 -0.325891 -1.073326\n",
       "3  1.617252 -0.187144  0.393138 -0.301502\n",
       "4 -0.747856  1.623586 -0.734113 -0.626884\n",
       "5  0.814009  0.652931  1.129928 -0.701501\n",
       "6 -0.108321 -0.274590 -1.767240 -0.282378\n",
       "7  1.856998 -0.854022 -0.102283 -0.830124\n",
       "8 -1.070414 -0.149799 -0.396826  1.014250\n",
       "9  0.310075  1.591718  0.175050 -0.437157"
      ]
     },
     "execution_count": 6,
     "metadata": {},
     "output_type": "execute_result"
    }
   ],
   "source": [
    "dataframe"
   ]
  },
  {
   "cell_type": "code",
   "execution_count": 9,
   "metadata": {},
   "outputs": [
    {
     "data": {
      "image/png": "[encoded data removed]",
      "text/plain": [
       "<Figure size 720x864 with 1 Axes>"
      ]
     },
     "metadata": {
      "needs_background": "light"
     },
     "output_type": "display_data"
    }
   ],
   "source": [
    "dataframe.plot(kind='bar',width=3,figsize=(10,12))\n",
    "plt.title(\"BAR GRAPH\",color='red')\n",
    "plt.show()"
   ]
  },
  {
   "cell_type": "code",
   "execution_count": null,
   "metadata": {},
   "outputs": [],
   "source": []
  }
 ],
 "metadata": {
  "kernelspec": {
   "display_name": "Python 3",
   "language": "python",
   "name": "python3"
  },
  "language_info": {
   "codemirror_mode": {
    "name": "ipython",
    "version": 3
   },
   "file_extension": ".py",
   "mimetype": "text/x-python",
   "name": "python",
   "nbconvert_exporter": "python",
   "pygments_lexer": "ipython3",
   "version": "3.8.5"
  }
 },
 "nbformat": 4,
 "nbformat_minor": 4
}