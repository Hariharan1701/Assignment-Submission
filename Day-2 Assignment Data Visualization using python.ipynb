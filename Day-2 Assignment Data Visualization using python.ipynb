{
 "cells": [
  {
   "cell_type": "markdown",
   "metadata": {},
   "source": [
    "# Assignment - Day 2\n",
    "## Name - R.Hariharan\n",
    "## Email id - rhariharan1701@gmail.com"
   ]
  },
  {
   "cell_type": "code",
   "execution_count": 3,
   "metadata": {},
   "outputs": [],
   "source": [
    "import numpy as np\n",
    "import pandas as pd\n",
    "import seaborn as sns \n",
    "import matplotlib as mpl\n",
    "import matplotlib.pyplot as plt\n",
    "from numpy.random import randn,randint,uniform,sample"
   ]
  },
  {
   "cell_type": "markdown",
   "metadata": {},
   "source": [
    "## Create a dataframe with 10 rows on random numbers and 4 columns,(columns labelled as a,b,c,d) and plot a bar chart."
   ]
  },
  {
   "cell_type": "code",
   "execution_count": 19,
   "metadata": {},
   "outputs": [],
   "source": [
    "dataframe = pd.DataFrame(randn(10,4), columns =['a','b','c','d'])"
   ]
  },
  {
   "cell_type": "code",
   "execution_count": 28,
   "metadata": {},
   "outputs": [
    {
     "data": {
      "text/html": [
       "<div>\n",
       "<style scoped>\n",
       "    .dataframe tbody tr th:only-of-type {\n",
       "        vertical-align: middle;\n",
       "    }\n",
       "\n",
       "    .dataframe tbody tr th {\n",
       "        vertical-align: top;\n",
       "    }\n",
       "\n",
       "    .dataframe thead th {\n",
       "        text-align: right;\n",
       "    }\n",
       "</style>\n",
       "<table border=\"1\" class=\"dataframe\">\n",
       "  <thead>\n",
       "    <tr style=\"text-align: right;\">\n",
       "      <th></th>\n",
       "      <th>a</th>\n",
       "      <th>b</th>\n",
       "      <th>c</th>\n",
       "      <th>d</th>\n",
       "    </tr>\n",
       "  </thead>\n",
       "  <tbody>\n",
       "    <tr>\n",
       "      <th>0</th>\n",
       "      <td>-1.134560</td>\n",
       "      <td>-0.987199</td>\n",
       "      <td>1.873084</td>\n",
       "      <td>-0.453259</td>\n",
       "    </tr>\n",
       "    <tr>\n",
       "      <th>1</th>\n",
       "      <td>-0.998223</td>\n",
       "      <td>0.381153</td>\n",
       "      <td>-1.879724</td>\n",
       "      <td>-0.149190</td>\n",
       "    </tr>\n",
       "    <tr>\n",
       "      <th>2</th>\n",
       "      <td>-0.293494</td>\n",
       "      <td>0.452791</td>\n",
       "      <td>0.503808</td>\n",
       "      <td>-0.671790</td>\n",
       "    </tr>\n",
       "    <tr>\n",
       "      <th>3</th>\n",
       "      <td>1.160041</td>\n",
       "      <td>-0.291012</td>\n",
       "      <td>0.911566</td>\n",
       "      <td>-0.689306</td>\n",
       "    </tr>\n",
       "    <tr>\n",
       "      <th>4</th>\n",
       "      <td>-0.210192</td>\n",
       "      <td>-2.988372</td>\n",
       "      <td>-1.270844</td>\n",
       "      <td>0.440251</td>\n",
       "    </tr>\n",
       "    <tr>\n",
       "      <th>5</th>\n",
       "      <td>-0.831640</td>\n",
       "      <td>0.047422</td>\n",
       "      <td>-0.463451</td>\n",
       "      <td>0.528486</td>\n",
       "    </tr>\n",
       "    <tr>\n",
       "      <th>6</th>\n",
       "      <td>-0.880452</td>\n",
       "      <td>-0.278680</td>\n",
       "      <td>0.786284</td>\n",
       "      <td>0.030299</td>\n",
       "    </tr>\n",
       "    <tr>\n",
       "      <th>7</th>\n",
       "      <td>0.807572</td>\n",
       "      <td>1.541772</td>\n",
       "      <td>-2.363918</td>\n",
       "      <td>0.028927</td>\n",
       "    </tr>\n",
       "    <tr>\n",
       "      <th>8</th>\n",
       "      <td>-1.241601</td>\n",
       "      <td>-1.909372</td>\n",
       "      <td>-1.412713</td>\n",
       "      <td>0.436752</td>\n",
       "    </tr>\n",
       "    <tr>\n",
       "      <th>9</th>\n",
       "      <td>-1.643508</td>\n",
       "      <td>0.508874</td>\n",
       "      <td>2.226408</td>\n",
       "      <td>-0.737263</td>\n",
       "    </tr>\n",
       "  </tbody>\n",
       "</table>\n",
       "</div>"
      ],
      "text/plain": [
       "          a         b         c         d\n",
       "0 -1.134560 -0.987199  1.873084 -0.453259\n",
       "1 -0.998223  0.381153 -1.879724 -0.149190\n",
       "2 -0.293494  0.452791  0.503808 -0.671790\n",
       "3  1.160041 -0.291012  0.911566 -0.689306\n",
       "4 -0.210192 -2.988372 -1.270844  0.440251\n",
       "5 -0.831640  0.047422 -0.463451  0.528486\n",
       "6 -0.880452 -0.278680  0.786284  0.030299\n",
       "7  0.807572  1.541772 -2.363918  0.028927\n",
       "8 -1.241601 -1.909372 -1.412713  0.436752\n",
       "9 -1.643508  0.508874  2.226408 -0.737263"
      ]
     },
     "execution_count": 28,
     "metadata": {},
     "output_type": "execute_result"
    }
   ],
   "source": [
    "dataframe"
   ]
  },
  {
   "cell_type": "code",
   "execution_count": 29,
   "metadata": {},
   "outputs": [
    {
     "data": {
      "image/png": "[encoded data removed]",
      "text/plain": [
       "<Figure size 648x648 with 1 Axes>"
      ]
     },
     "metadata": {
      "needs_background": "light"
     },
     "output_type": "display_data"
    }
   ],
   "source": [
    "df.plot(kind='bar',figsize=(9,9))\n",
    "plt.title(\"BAR GRAPH\",color='red')\n",
    "plt.show()"
   ]
  },
  {
   "cell_type": "code",
   "execution_count": null,
   "metadata": {},
   "outputs": [],
   "source": []
  }
 ],
 "metadata": {
  "kernelspec": {
   "display_name": "Python 3",
   "language": "python",
   "name": "python3"
  },
  "language_info": {
   "codemirror_mode": {
    "name": "ipython",
    "version": 3
   },
   "file_extension": ".py",
   "mimetype": "text/x-python",
   "name": "python",
   "nbconvert_exporter": "python",
   "pygments_lexer": "ipython3",
   "version": "3.8.5"
  }
 },
 "nbformat": 4,
 "nbformat_minor": 4
}
