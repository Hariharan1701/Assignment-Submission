{
 "cells": [
  {
   "cell_type": "markdown",
   "metadata": {},
   "source": [
    "# Web Scraping in Python Zero to Hero \n",
    "# Assignment \n",
    "## Name - R.Hariharan\n",
    "## Email id - rhariharan1701@gmail.com"
   ]
  },
  {
   "cell_type": "code",
   "execution_count": 143,
   "metadata": {},
   "outputs": [],
   "source": [
    "from bs4 import BeautifulSoup\n",
    "import requests\n",
    "import pandas as pd"
   ]
  },
  {
   "cell_type": "code",
   "execution_count": 144,
   "metadata": {},
   "outputs": [],
   "source": [
    "url = \"https://www.worldometers.info/coronavirus/?utm_campaign=homeAdvegas1?%22%20%5Cl%22countries\"\n",
    "data = requests.get(url)\n",
    "soup = BeautifulSoup(data.text,'html5lib')"
   ]
  },
  {
   "cell_type": "code",
   "execution_count": 145,
   "metadata": {},
   "outputs": [
    {
     "name": "stdout",
     "output_type": "stream",
     "text": [
      "['Country,Other', 'TotalCases', 'NewCases', 'TotalDeaths', 'TotalRecovered', 'activeCases']\n"
     ]
    }
   ],
   "source": [
    "tables = soup.find_all('table')\n",
    "table_header = tables[0].find_all('th')\n",
    "table_head = ['Country,Other','TotalCases','NewCases','TotalDeaths','TotalRecovered','activeCases']\n",
    "print(table_head)"
   ]
  },
  {
   "cell_type": "code",
   "execution_count": 146,
   "metadata": {},
   "outputs": [],
   "source": [
    "Covid_data = pd.DataFrame(columns=table_head)\n",
    "for row in tables[0].tbody.find_all('tr'):\n",
    "  col = row.find_all('td')\n",
    "  if (col != []):\n",
    "    country = col[1].text.strip()\n",
    "    totalCases = col[2].text.strip()\n",
    "    newCases = col[3].text.strip()\n",
    "    totalDeaths = col[4].text.strip()\n",
    "    totalRecovered = col[5].text.strip()\n",
    "    activeCases = col[6].text.strip()\n",
    "    Covid_data = Covid_data.append({\"Country,Other\":country,\"TotalCases\":totalCases,\"NewCases\":newCases,\n",
    "                                    \"TotalDeaths\":totalDeaths,\"TotalRecovered\":totalRecovered,\n",
    "                                    \"ActiveCases\":activeCases},ignore_index=True)"
   ]
  },
  {
   "cell_type": "code",
   "execution_count": 147,
   "metadata": {},
   "outputs": [],
   "source": [
    "Covid_data_frame = Covid_data.drop('activeCases',1)"
   ]
  },
  {
   "cell_type": "code",
   "execution_count": 148,
   "metadata": {},
   "outputs": [
    {
     "data": {
      "text/plain": [
       "(230, 6)"
      ]
     },
     "execution_count": 148,
     "metadata": {},
     "output_type": "execute_result"
    }
   ],
   "source": [
    "Covid_data_frame.shape"
   ]
  },
  {
   "cell_type": "code",
   "execution_count": 149,
   "metadata": {},
   "outputs": [
    {
     "data": {
      "text/html": [
       "<div>\n",
       "<style scoped>\n",
       "    .dataframe tbody tr th:only-of-type {\n",
       "        vertical-align: middle;\n",
       "    }\n",
       "\n",
       "    .dataframe tbody tr th {\n",
       "        vertical-align: top;\n",
       "    }\n",
       "\n",
       "    .dataframe thead th {\n",
       "        text-align: right;\n",
       "    }\n",
       "</style>\n",
       "<table border=\"1\" class=\"dataframe\">\n",
       "  <thead>\n",
       "    <tr style=\"text-align: right;\">\n",
       "      <th></th>\n",
       "      <th>Country,Other</th>\n",
       "      <th>TotalCases</th>\n",
       "      <th>NewCases</th>\n",
       "      <th>TotalDeaths</th>\n",
       "      <th>TotalRecovered</th>\n",
       "      <th>ActiveCases</th>\n",
       "    </tr>\n",
       "  </thead>\n",
       "  <tbody>\n",
       "    <tr>\n",
       "      <th>0</th>\n",
       "      <td>North America</td>\n",
       "      <td>44,876,434</td>\n",
       "      <td>+23,136</td>\n",
       "      <td>960,197</td>\n",
       "      <td>+302</td>\n",
       "      <td>36,326,308</td>\n",
       "    </tr>\n",
       "    <tr>\n",
       "      <th>1</th>\n",
       "      <td>Asia</td>\n",
       "      <td>66,235,955</td>\n",
       "      <td>+204,718</td>\n",
       "      <td>969,459</td>\n",
       "      <td>+3,601</td>\n",
       "      <td>61,629,277</td>\n",
       "    </tr>\n",
       "    <tr>\n",
       "      <th>2</th>\n",
       "      <td>South America</td>\n",
       "      <td>36,297,561</td>\n",
       "      <td>+1,037</td>\n",
       "      <td>1,112,282</td>\n",
       "      <td>+47</td>\n",
       "      <td>33,997,574</td>\n",
       "    </tr>\n",
       "    <tr>\n",
       "      <th>3</th>\n",
       "      <td>Europe</td>\n",
       "      <td>53,408,141</td>\n",
       "      <td>+83,638</td>\n",
       "      <td>1,151,612</td>\n",
       "      <td>+1,001</td>\n",
       "      <td>48,336,895</td>\n",
       "    </tr>\n",
       "    <tr>\n",
       "      <th>4</th>\n",
       "      <td>Africa</td>\n",
       "      <td>7,350,329</td>\n",
       "      <td>+19,485</td>\n",
       "      <td>184,697</td>\n",
       "      <td>+641</td>\n",
       "      <td>6,456,888</td>\n",
       "    </tr>\n",
       "    <tr>\n",
       "      <th>5</th>\n",
       "      <td>Oceania</td>\n",
       "      <td>129,881</td>\n",
       "      <td>+874</td>\n",
       "      <td>1,774</td>\n",
       "      <td>+32</td>\n",
       "      <td>92,166</td>\n",
       "    </tr>\n",
       "    <tr>\n",
       "      <th>6</th>\n",
       "      <td></td>\n",
       "      <td>721</td>\n",
       "      <td></td>\n",
       "      <td>15</td>\n",
       "      <td></td>\n",
       "      <td>706</td>\n",
       "    </tr>\n",
       "    <tr>\n",
       "      <th>7</th>\n",
       "      <td>World</td>\n",
       "      <td>208,299,022</td>\n",
       "      <td>+332,888</td>\n",
       "      <td>4,380,036</td>\n",
       "      <td>+5,624</td>\n",
       "      <td>186,839,814</td>\n",
       "    </tr>\n",
       "    <tr>\n",
       "      <th>8</th>\n",
       "      <td>USA</td>\n",
       "      <td>37,469,989</td>\n",
       "      <td>+3,271</td>\n",
       "      <td>637,572</td>\n",
       "      <td>+11</td>\n",
       "      <td>30,155,008</td>\n",
       "    </tr>\n",
       "    <tr>\n",
       "      <th>9</th>\n",
       "      <td>India</td>\n",
       "      <td>32,249,573</td>\n",
       "      <td>+24,398</td>\n",
       "      <td>432,110</td>\n",
       "      <td>+436</td>\n",
       "      <td>31,440,221</td>\n",
       "    </tr>\n",
       "  </tbody>\n",
       "</table>\n",
       "</div>"
      ],
      "text/plain": [
       "   Country,Other   TotalCases  NewCases TotalDeaths TotalRecovered  \\\n",
       "0  North America   44,876,434   +23,136     960,197           +302   \n",
       "1           Asia   66,235,955  +204,718     969,459         +3,601   \n",
       "2  South America   36,297,561    +1,037   1,112,282            +47   \n",
       "3         Europe   53,408,141   +83,638   1,151,612         +1,001   \n",
       "4         Africa    7,350,329   +19,485     184,697           +641   \n",
       "5        Oceania      129,881      +874       1,774            +32   \n",
       "6                         721                    15                  \n",
       "7          World  208,299,022  +332,888   4,380,036         +5,624   \n",
       "8            USA   37,469,989    +3,271     637,572            +11   \n",
       "9          India   32,249,573   +24,398     432,110           +436   \n",
       "\n",
       "   ActiveCases  \n",
       "0   36,326,308  \n",
       "1   61,629,277  \n",
       "2   33,997,574  \n",
       "3   48,336,895  \n",
       "4    6,456,888  \n",
       "5       92,166  \n",
       "6          706  \n",
       "7  186,839,814  \n",
       "8   30,155,008  \n",
       "9   31,440,221  "
      ]
     },
     "execution_count": 149,
     "metadata": {},
     "output_type": "execute_result"
    }
   ],
   "source": [
    "Covid_data_frame.head(10)"
   ]
  },
  {
   "cell_type": "code",
   "execution_count": null,
   "metadata": {},
   "outputs": [],
   "source": []
  }
 ],
 "metadata": {
  "kernelspec": {
   "display_name": "Python 3",
   "language": "python",
   "name": "python3"
  },
  "language_info": {
   "codemirror_mode": {
    "name": "ipython",
    "version": 3
   },
   "file_extension": ".py",
   "mimetype": "text/x-python",
   "name": "python",
   "nbconvert_exporter": "python",
   "pygments_lexer": "ipython3",
   "version": "3.8.5"
  }
 },
 "nbformat": 4,
 "nbformat_minor": 4
}
